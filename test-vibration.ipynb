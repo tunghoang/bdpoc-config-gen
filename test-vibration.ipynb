{
 "cells": [
  {
   "cell_type": "code",
   "execution_count": 1,
   "id": "2cd07e99-0b07-4b7a-8ec5-0839ac646a68",
   "metadata": {
    "tags": []
   },
   "outputs": [],
   "source": [
    "import sys\n",
    "from influx import Influx\n",
    "sys.path.append(\"/home/jupyter-admin/bdpoc-datahub/visualize\")\n",
    "from visualize.configs.constants import VIBRATION_THRESHOLDS, VIBRATION_DURATIONS"
   ]
  },
  {
   "cell_type": "code",
   "execution_count": 7,
   "id": "9a6cc90a-5a4a-41d4-9757-8801fda59864",
   "metadata": {
    "tags": []
   },
   "outputs": [
    {
     "data": {
      "text/html": [
       "<div>\n",
       "<style scoped>\n",
       "    .dataframe tbody tr th:only-of-type {\n",
       "        vertical-align: middle;\n",
       "    }\n",
       "\n",
       "    .dataframe tbody tr th {\n",
       "        vertical-align: top;\n",
       "    }\n",
       "\n",
       "    .dataframe thead th {\n",
       "        text-align: right;\n",
       "    }\n",
       "</style>\n",
       "<table border=\"1\" class=\"dataframe\">\n",
       "  <thead>\n",
       "    <tr style=\"text-align: right;\">\n",
       "      <th></th>\n",
       "      <th>result</th>\n",
       "      <th>table</th>\n",
       "      <th>_start</th>\n",
       "      <th>_stop</th>\n",
       "      <th>_time</th>\n",
       "      <th>_value</th>\n",
       "      <th>_field</th>\n",
       "      <th>_measurement</th>\n",
       "      <th>stateCount</th>\n",
       "      <th>alarmType</th>\n",
       "    </tr>\n",
       "  </thead>\n",
       "  <tbody>\n",
       "    <tr>\n",
       "      <th>0</th>\n",
       "      <td>_result</td>\n",
       "      <td>0</td>\n",
       "      <td>2023-09-24 22:52:50+07:00</td>\n",
       "      <td>2023-09-24 22:52:50+07:00</td>\n",
       "      <td>2023-09-24 22:52:50+07:00</td>\n",
       "      <td>4.05</td>\n",
       "      <td>HT_VI_4101B.PV</td>\n",
       "      <td>phdpeer</td>\n",
       "      <td>2</td>\n",
       "      <td>ALARM</td>\n",
       "    </tr>\n",
       "  </tbody>\n",
       "</table>\n",
       "</div>"
      ],
      "text/plain": [
       "    result  table                    _start                     _stop  \\\n",
       "0  _result      0 2023-09-24 22:52:50+07:00 2023-09-24 22:52:50+07:00   \n",
       "\n",
       "                      _time  _value          _field _measurement  stateCount  \\\n",
       "0 2023-09-24 22:52:50+07:00    4.05  HT_VI_4101B.PV      phdpeer           2   \n",
       "\n",
       "  alarmType  \n",
       "0     ALARM  "
      ]
     },
     "execution_count": 7,
     "metadata": {},
     "output_type": "execute_result"
    }
   ],
   "source": [
    "fileHandle = open(\"./vibration-sample.csv\")\n",
    "csvData = fileHandle.read()\n",
    "\n",
    "query = f'''\n",
    "import \"csv\"\n",
    "data = csv.from(csv: \"{csvData}\")\n",
    "alarm = data |> stateCount(fn: (r) => r._value > {VIBRATION_THRESHOLDS[\"ALARM\"]} and r._value <= {VIBRATION_THRESHOLDS[\"SHUTDOWN\"]})\n",
    "    |> filter(fn: (r) => r.stateCount > {VIBRATION_DURATIONS[\"ALARM\"]})\n",
    "    |> set(key: \"alarmType\", value: \"ALARM\")\n",
    "shutdown = data |> stateCount(fn: (r) => r._value > {VIBRATION_THRESHOLDS[\"SHUTDOWN\"]})\n",
    "    |> filter(fn: (r) => r.stateCount > {VIBRATION_DURATIONS[\"SHUTDOWN\"]})\n",
    "    |> set(key: \"alarmType\", value: \"CRITICAL\")\n",
    "union(tables: [alarm, shutdown])\n",
    "'''\n",
    "\n",
    "Influx().setRawQuery(query).asDataFrame()"
   ]
  },
  {
   "cell_type": "code",
   "execution_count": 6,
   "id": "854f76e6-d113-4199-b2a3-c8ec0d748d40",
   "metadata": {
    "tags": []
   },
   "outputs": [],
   "source": [
    "fileHandle.close()"
   ]
  },
  {
   "cell_type": "code",
   "execution_count": 4,
   "id": "c29bbc67-c72d-40bf-a84c-7b6f4d50f0b7",
   "metadata": {
    "tags": []
   },
   "outputs": [
    {
     "data": {
      "text/plain": [
       "1"
      ]
     },
     "execution_count": 4,
     "metadata": {},
     "output_type": "execute_result"
    }
   ],
   "source": [
    "VIBRATION_DURATIONS[\"ALARM\"]"
   ]
  },
  {
   "cell_type": "code",
   "execution_count": null,
   "id": "6977bfab-bdcf-4a7a-9d45-85ea66a7378f",
   "metadata": {},
   "outputs": [],
   "source": []
  }
 ],
 "metadata": {
  "kernelspec": {
   "display_name": "Python 3 (ipykernel)",
   "language": "python",
   "name": "python3"
  },
  "language_info": {
   "codemirror_mode": {
    "name": "ipython",
    "version": 3
   },
   "file_extension": ".py",
   "mimetype": "text/x-python",
   "name": "python",
   "nbconvert_exporter": "python",
   "pygments_lexer": "ipython3",
   "version": "3.9.7"
  }
 },
 "nbformat": 4,
 "nbformat_minor": 5
}
