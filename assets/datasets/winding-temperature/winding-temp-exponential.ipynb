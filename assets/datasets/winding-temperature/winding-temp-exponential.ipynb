{
 "cells": [
  {
   "cell_type": "markdown",
   "id": "95514f9e-e9b3-46af-8aba-532caf9aca07",
   "metadata": {},
   "source": [
    "### $Temp = a \\times b^{time}$\n",
    "### $ln(Temp) = ln(a) + {time} \\times ln(b)$\n",
    "\n",
    "### $A = regression(ln(a))$\n",
    "### $B = regression(ln(b))$\n",
    "\n",
    "### $ln(Temp) = A + {time} \\times B$\n",
    "### ${time} = \\dfrac{ln(Temp) - A}{B}$"
   ]
  },
  {
   "cell_type": "code",
   "execution_count": 3,
   "id": "512acd40-292b-4d82-bd29-6596580a8059",
   "metadata": {
    "tags": []
   },
   "outputs": [],
   "source": [
    "import pandas as pd\n",
    "import math\n",
    "import numpy as np\n",
    "\n",
    "#df = pd.read_csv(\"HT_TI_2186A.PV.csv\")\n",
    "#df = pd.read_csv(\"HT_TI_2186C.PV.csv\")\n",
    "df = pd.read_csv(\"HT_TI_2186E.PV.csv\")\n",
    "\n",
    "Lambda =  math.log(2) / 10 \n"
   ]
  },
  {
   "cell_type": "code",
   "execution_count": 4,
   "id": "cd179ac7-1eb9-45a6-b423-e5192c851500",
   "metadata": {
    "tags": []
   },
   "outputs": [
    {
     "data": {
      "text/html": [
       "<div>\n",
       "<style scoped>\n",
       "    .dataframe tbody tr th:only-of-type {\n",
       "        vertical-align: middle;\n",
       "    }\n",
       "\n",
       "    .dataframe tbody tr th {\n",
       "        vertical-align: top;\n",
       "    }\n",
       "\n",
       "    .dataframe thead th {\n",
       "        text-align: right;\n",
       "    }\n",
       "</style>\n",
       "<table border=\"1\" class=\"dataframe\">\n",
       "  <thead>\n",
       "    <tr style=\"text-align: right;\">\n",
       "      <th></th>\n",
       "      <th>temperature</th>\n",
       "      <th>time</th>\n",
       "      <th>time1</th>\n",
       "    </tr>\n",
       "  </thead>\n",
       "  <tbody>\n",
       "    <tr>\n",
       "      <th>0</th>\n",
       "      <td>61.178613</td>\n",
       "      <td>2017-06-06 00:05:00</td>\n",
       "      <td>156</td>\n",
       "    </tr>\n",
       "    <tr>\n",
       "      <th>1</th>\n",
       "      <td>61.138004</td>\n",
       "      <td>2017-06-06 00:15:00</td>\n",
       "      <td>156</td>\n",
       "    </tr>\n",
       "    <tr>\n",
       "      <th>2</th>\n",
       "      <td>61.277757</td>\n",
       "      <td>2017-06-06 00:25:00</td>\n",
       "      <td>156</td>\n",
       "    </tr>\n",
       "    <tr>\n",
       "      <th>3</th>\n",
       "      <td>61.296651</td>\n",
       "      <td>2017-06-06 00:35:00</td>\n",
       "      <td>156</td>\n",
       "    </tr>\n",
       "    <tr>\n",
       "      <th>4</th>\n",
       "      <td>61.429301</td>\n",
       "      <td>2017-06-06 00:45:00</td>\n",
       "      <td>156</td>\n",
       "    </tr>\n",
       "    <tr>\n",
       "      <th>...</th>\n",
       "      <td>...</td>\n",
       "      <td>...</td>\n",
       "      <td>...</td>\n",
       "    </tr>\n",
       "    <tr>\n",
       "      <th>48623</th>\n",
       "      <td>61.484407</td>\n",
       "      <td>2023-06-22 06:00:00</td>\n",
       "      <td>2363</td>\n",
       "    </tr>\n",
       "    <tr>\n",
       "      <th>48624</th>\n",
       "      <td>61.140919</td>\n",
       "      <td>2023-06-22 07:00:00</td>\n",
       "      <td>2363</td>\n",
       "    </tr>\n",
       "    <tr>\n",
       "      <th>48625</th>\n",
       "      <td>60.797430</td>\n",
       "      <td>2023-06-22 08:00:00</td>\n",
       "      <td>2363</td>\n",
       "    </tr>\n",
       "    <tr>\n",
       "      <th>48626</th>\n",
       "      <td>60.453942</td>\n",
       "      <td>2023-06-22 09:00:00</td>\n",
       "      <td>2363</td>\n",
       "    </tr>\n",
       "    <tr>\n",
       "      <th>48627</th>\n",
       "      <td>60.110454</td>\n",
       "      <td>2023-06-22 10:00:00</td>\n",
       "      <td>2363</td>\n",
       "    </tr>\n",
       "  </tbody>\n",
       "</table>\n",
       "<p>33426 rows × 3 columns</p>\n",
       "</div>"
      ],
      "text/plain": [
       "       temperature                time  time1\n",
       "0        61.178613 2017-06-06 00:05:00    156\n",
       "1        61.138004 2017-06-06 00:15:00    156\n",
       "2        61.277757 2017-06-06 00:25:00    156\n",
       "3        61.296651 2017-06-06 00:35:00    156\n",
       "4        61.429301 2017-06-06 00:45:00    156\n",
       "...            ...                 ...    ...\n",
       "48623    61.484407 2023-06-22 06:00:00   2363\n",
       "48624    61.140919 2023-06-22 07:00:00   2363\n",
       "48625    60.797430 2023-06-22 08:00:00   2363\n",
       "48626    60.453942 2023-06-22 09:00:00   2363\n",
       "48627    60.110454 2023-06-22 10:00:00   2363\n",
       "\n",
       "[33426 rows x 3 columns]"
      ]
     },
     "execution_count": 4,
     "metadata": {},
     "output_type": "execute_result"
    }
   ],
   "source": [
    "df['time'] = pd.to_datetime(df.time)\n",
    "df['year'] = df['time'].dt.year\n",
    "df['month'] = df['time'].dt.month\n",
    "df['day'] = df['time'].dt.day\n",
    "\n",
    "df1 = df[['temperature', 'time']]\n",
    "df1 = df1[ (df1.temperature > 60) ]\n",
    "df1['time1'] = (df1.time - pd.to_datetime('2017-01-01')).dt.days\n",
    "df1"
   ]
  },
  {
   "cell_type": "code",
   "execution_count": 5,
   "id": "707cdf36-28e7-4560-95cb-ecaf7bf41f3e",
   "metadata": {
    "tags": []
   },
   "outputs": [
    {
     "name": "stdout",
     "output_type": "stream",
     "text": [
      "-1.3770195742751864e-06 4.159638517045775\n"
     ]
    }
   ],
   "source": [
    "B, A = np.polyfit(df1.time1, np.log(df1.temperature), 1)\n",
    "print(B, A)"
   ]
  },
  {
   "cell_type": "code",
   "execution_count": 6,
   "id": "28a5d9be-f386-44ff-bd1d-bf2a77695eff",
   "metadata": {
    "tags": []
   },
   "outputs": [],
   "source": [
    "Temp = 120.4 \n",
    "time = (math.log(Temp) - A) / B"
   ]
  },
  {
   "cell_type": "code",
   "execution_count": 9,
   "id": "acd40c72-77f9-4154-af30-245517b7d2b3",
   "metadata": {
    "tags": []
   },
   "outputs": [
    {
     "data": {
      "text/plain": [
       "1249.180371920574"
      ]
     },
     "execution_count": 9,
     "metadata": {},
     "output_type": "execute_result"
    }
   ],
   "source": [
    "abs(time)/365"
   ]
  },
  {
   "cell_type": "code",
   "execution_count": null,
   "id": "e5276c10-f1dc-4c8b-8a21-3637c5071c65",
   "metadata": {},
   "outputs": [],
   "source": []
  }
 ],
 "metadata": {
  "kernelspec": {
   "display_name": "Python 3 (ipykernel)",
   "language": "python",
   "name": "python3"
  },
  "language_info": {
   "codemirror_mode": {
    "name": "ipython",
    "version": 3
   },
   "file_extension": ".py",
   "mimetype": "text/x-python",
   "name": "python",
   "nbconvert_exporter": "python",
   "pygments_lexer": "ipython3",
   "version": "3.9.7"
  }
 },
 "nbformat": 4,
 "nbformat_minor": 5
}
