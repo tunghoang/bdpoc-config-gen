{
 "cells": [
  {
   "cell_type": "markdown",
   "id": "0afbad7b-b4f6-4eb8-a07d-ceaf3bdfab8f",
   "metadata": {},
   "source": [
    "### $T_0 - T(t) = R_0 e^{- \\lambda t}$\n",
    "### $\\lambda = \\dfrac{ln2}{10}$\n",
    "\n",
    "- ### $T_0 - T(t) = R(t)$: Remaining useful line (RUL)\n",
    "- ### $t$: nhiệt độ hiện thời\n",
    "\n",
    "### Let $\\tau = e^{-\\lambda t}$, then ..\n",
    "\n",
    "### $T_0 - T(\\tau) = R(\\tau) = R_0 \\tau$\n",
    "\n",
    "### $T(\\tau) = T_0 - R_0 \\tau$\n",
    "\n",
    "### Thus, if we have sample set of $(T_i, \\tau_i)$, we can find $R_0$ and $T_0$ by the simple linear regression method:\n",
    "\n",
    "### $R_0 = - \\dfrac{\\sum (T_i - \\bar{T_i})( \\tau_i - \\bar{\\tau_i}) }{\\sum (\\tau_i - \\bar{\\tau})^2 }$\n",
    "### $T_0 = \\bar{T_i} + R_0 \\bar{\\tau_i}$"
   ]
  },
  {
   "cell_type": "code",
   "execution_count": 8,
   "id": "656bc5ff-b695-495b-98a9-121fa7228a5e",
   "metadata": {
    "tags": []
   },
   "outputs": [],
   "source": [
    "import pandas as pd\n",
    "import math\n",
    "import numpy as np\n",
    "\n",
    "df = pd.read_csv(\"HT_TI_2186A.PV.csv\")\n",
    "#df = pd.read_csv(\"HT_TI_2186C.PV.csv\")\n",
    "#df = pd.read_csv(\"HT_TI_2186E.PV.csv\")\n",
    "\n",
    "Lambda =  math.log(2) / 10 "
   ]
  },
  {
   "cell_type": "code",
   "execution_count": 9,
   "id": "0ab890fd-3e37-44cb-bf99-1c4c5865be17",
   "metadata": {
    "tags": []
   },
   "outputs": [
    {
     "data": {
      "text/html": [
       "<div>\n",
       "<style scoped>\n",
       "    .dataframe tbody tr th:only-of-type {\n",
       "        vertical-align: middle;\n",
       "    }\n",
       "\n",
       "    .dataframe tbody tr th {\n",
       "        vertical-align: top;\n",
       "    }\n",
       "\n",
       "    .dataframe thead th {\n",
       "        text-align: right;\n",
       "    }\n",
       "</style>\n",
       "<table border=\"1\" class=\"dataframe\">\n",
       "  <thead>\n",
       "    <tr style=\"text-align: right;\">\n",
       "      <th></th>\n",
       "      <th>year</th>\n",
       "      <th>temperature</th>\n",
       "      <th>month</th>\n",
       "      <th>day</th>\n",
       "      <th>tau</th>\n",
       "    </tr>\n",
       "  </thead>\n",
       "  <tbody>\n",
       "    <tr>\n",
       "      <th>0</th>\n",
       "      <td>2017</td>\n",
       "      <td>63.962912</td>\n",
       "      <td>8.579005</td>\n",
       "      <td>14.404558</td>\n",
       "      <td>0.759809</td>\n",
       "    </tr>\n",
       "    <tr>\n",
       "      <th>1</th>\n",
       "      <td>2018</td>\n",
       "      <td>64.092703</td>\n",
       "      <td>7.120642</td>\n",
       "      <td>15.097234</td>\n",
       "      <td>0.753004</td>\n",
       "    </tr>\n",
       "    <tr>\n",
       "      <th>2</th>\n",
       "      <td>2019</td>\n",
       "      <td>64.318590</td>\n",
       "      <td>5.983095</td>\n",
       "      <td>15.643009</td>\n",
       "      <td>0.741306</td>\n",
       "    </tr>\n",
       "    <tr>\n",
       "      <th>3</th>\n",
       "      <td>2020</td>\n",
       "      <td>65.897784</td>\n",
       "      <td>6.247489</td>\n",
       "      <td>15.822536</td>\n",
       "      <td>0.664445</td>\n",
       "    </tr>\n",
       "    <tr>\n",
       "      <th>4</th>\n",
       "      <td>2021</td>\n",
       "      <td>63.324790</td>\n",
       "      <td>7.316941</td>\n",
       "      <td>15.952177</td>\n",
       "      <td>0.794171</td>\n",
       "    </tr>\n",
       "    <tr>\n",
       "      <th>5</th>\n",
       "      <td>2022</td>\n",
       "      <td>63.930150</td>\n",
       "      <td>5.100461</td>\n",
       "      <td>14.980076</td>\n",
       "      <td>0.761536</td>\n",
       "    </tr>\n",
       "    <tr>\n",
       "      <th>6</th>\n",
       "      <td>2023</td>\n",
       "      <td>64.816346</td>\n",
       "      <td>4.088518</td>\n",
       "      <td>14.752933</td>\n",
       "      <td>0.716166</td>\n",
       "    </tr>\n",
       "  </tbody>\n",
       "</table>\n",
       "</div>"
      ],
      "text/plain": [
       "   year  temperature     month        day       tau\n",
       "0  2017    63.962912  8.579005  14.404558  0.759809\n",
       "1  2018    64.092703  7.120642  15.097234  0.753004\n",
       "2  2019    64.318590  5.983095  15.643009  0.741306\n",
       "3  2020    65.897784  6.247489  15.822536  0.664445\n",
       "4  2021    63.324790  7.316941  15.952177  0.794171\n",
       "5  2022    63.930150  5.100461  14.980076  0.761536\n",
       "6  2023    64.816346  4.088518  14.752933  0.716166"
      ]
     },
     "execution_count": 9,
     "metadata": {},
     "output_type": "execute_result"
    }
   ],
   "source": [
    "df['time'] = pd.to_datetime(df.time)\n",
    "df['year'] = df['time'].dt.year\n",
    "df['month'] = df['time'].dt.month\n",
    "df['day'] = df['time'].dt.day\n",
    "\n",
    "df1 = df[['temperature', 'year', 'month', 'day']]\n",
    "df1 = df1[ (df1.temperature > 60) ]  # Filter noise\n",
    "\n",
    "#df1 = df1.groupby(['year', 'month', 'day']).mean()\n",
    "df1 = df1.groupby(['year']).mean()\n",
    "\n",
    "df1.reset_index(inplace=True)\n",
    "df1['tau'] = np.exp( -Lambda * (df1['temperature'] - 60))\n",
    "df1"
   ]
  },
  {
   "cell_type": "code",
   "execution_count": 23,
   "id": "131fa27a-c19c-4ae6-8e4b-1d25351c8247",
   "metadata": {
    "tags": []
   },
   "outputs": [
    {
     "name": "stdout",
     "output_type": "stream",
     "text": [
      "-21.306730542129763 2035.3137905902354\n"
     ]
    }
   ],
   "source": [
    "# Linear regression\n",
    "slope, interceptor = np.polyfit(df1.tau, df1.year, 1)\n",
    "print(slope, interceptor)"
   ]
  },
  {
   "cell_type": "code",
   "execution_count": 24,
   "id": "388f624e-54bf-4a52-ba51-a9d75253015f",
   "metadata": {
    "tags": []
   },
   "outputs": [],
   "source": [
    "temp = 71.7\n",
    "L = slope * math.exp(-Lambda * (temp - 60)) "
   ]
  },
  {
   "cell_type": "code",
   "execution_count": 22,
   "id": "ad400132-54f7-404e-9dcc-d3af5c5a2401",
   "metadata": {
    "tags": []
   },
   "outputs": [
    {
     "data": {
      "text/html": [
       "<div>\n",
       "<style scoped>\n",
       "    .dataframe tbody tr th:only-of-type {\n",
       "        vertical-align: middle;\n",
       "    }\n",
       "\n",
       "    .dataframe tbody tr th {\n",
       "        vertical-align: top;\n",
       "    }\n",
       "\n",
       "    .dataframe thead th {\n",
       "        text-align: right;\n",
       "    }\n",
       "</style>\n",
       "<table border=\"1\" class=\"dataframe\">\n",
       "  <thead>\n",
       "    <tr style=\"text-align: right;\">\n",
       "      <th></th>\n",
       "      <th>year</th>\n",
       "      <th>temperature</th>\n",
       "      <th>month</th>\n",
       "      <th>day</th>\n",
       "      <th>tau</th>\n",
       "    </tr>\n",
       "  </thead>\n",
       "  <tbody>\n",
       "    <tr>\n",
       "      <th>1</th>\n",
       "      <td>2018</td>\n",
       "      <td>64.092703</td>\n",
       "      <td>7.120642</td>\n",
       "      <td>15.097234</td>\n",
       "      <td>0.753004</td>\n",
       "    </tr>\n",
       "    <tr>\n",
       "      <th>2</th>\n",
       "      <td>2019</td>\n",
       "      <td>64.318590</td>\n",
       "      <td>5.983095</td>\n",
       "      <td>15.643009</td>\n",
       "      <td>0.741306</td>\n",
       "    </tr>\n",
       "    <tr>\n",
       "      <th>3</th>\n",
       "      <td>2020</td>\n",
       "      <td>65.897784</td>\n",
       "      <td>6.247489</td>\n",
       "      <td>15.822536</td>\n",
       "      <td>0.664445</td>\n",
       "    </tr>\n",
       "    <tr>\n",
       "      <th>6</th>\n",
       "      <td>2023</td>\n",
       "      <td>64.816346</td>\n",
       "      <td>4.088518</td>\n",
       "      <td>14.752933</td>\n",
       "      <td>0.716166</td>\n",
       "    </tr>\n",
       "  </tbody>\n",
       "</table>\n",
       "</div>"
      ],
      "text/plain": [
       "   year  temperature     month        day       tau\n",
       "1  2018    64.092703  7.120642  15.097234  0.753004\n",
       "2  2019    64.318590  5.983095  15.643009  0.741306\n",
       "3  2020    65.897784  6.247489  15.822536  0.664445\n",
       "6  2023    64.816346  4.088518  14.752933  0.716166"
      ]
     },
     "execution_count": 22,
     "metadata": {},
     "output_type": "execute_result"
    }
   ],
   "source": [
    "df1 = df1[df1.temperature > df1.temperature.values[0]]\n",
    "df1"
   ]
  },
  {
   "cell_type": "code",
   "execution_count": null,
   "id": "1570b45a-6d21-4f04-bc4f-935f2fda3e23",
   "metadata": {},
   "outputs": [],
   "source": []
  }
 ],
 "metadata": {
  "kernelspec": {
   "display_name": "Python 3 (ipykernel)",
   "language": "python",
   "name": "python3"
  },
  "language_info": {
   "codemirror_mode": {
    "name": "ipython",
    "version": 3
   },
   "file_extension": ".py",
   "mimetype": "text/x-python",
   "name": "python",
   "nbconvert_exporter": "python",
   "pygments_lexer": "ipython3",
   "version": "3.9.7"
  }
 },
 "nbformat": 4,
 "nbformat_minor": 5
}
