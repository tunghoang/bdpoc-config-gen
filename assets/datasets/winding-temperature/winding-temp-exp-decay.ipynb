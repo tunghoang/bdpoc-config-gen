{
 "cells": [
  {
   "cell_type": "markdown",
   "id": "6c1e4b6b-39e0-44c9-aeff-a726c95a5a8b",
   "metadata": {},
   "source": [
    "### $R(Temp) = R_0 \\times e^{-\\lambda \\times {Temp}}$"
   ]
  },
  {
   "cell_type": "markdown",
   "id": "0a714df4-06d4-4eee-974a-6963da017f2f",
   "metadata": {},
   "source": [
    "### $R(Temp_2) - R(Temp_1) = R_0 \\times (e^{-\\lambda {Temp_2}} - e^{-\\lambda {Temp_1}})$"
   ]
  },
  {
   "cell_type": "markdown",
   "id": "5118ca20-3144-43a5-9d9c-d1a0220b9447",
   "metadata": {},
   "source": [
    "### $\\Delta {R} = R_0 \\times \\Delta \\tau$ "
   ]
  },
  {
   "cell_type": "markdown",
   "id": "592e74a1-cb07-4cf0-a0e9-dee012e47ea9",
   "metadata": {},
   "source": [
    "### $R_0 = \\dfrac{\\Delta {R}}{\\Delta \\tau}$"
   ]
  },
  {
   "cell_type": "code",
   "execution_count": 1,
   "id": "b2b68f1f-fd3e-41bc-83a4-2d58d74d662f",
   "metadata": {
    "tags": []
   },
   "outputs": [
    {
     "data": {
      "text/plain": [
       "0.06931471805599453"
      ]
     },
     "execution_count": 1,
     "metadata": {},
     "output_type": "execute_result"
    }
   ],
   "source": [
    "import pandas as pd\n",
    "import math\n",
    "import numpy as np\n",
    "import plotly.express as px\n",
    "\n",
    "#df = pd.read_csv(\"HT_TI_2186A.PV.csv\")\n",
    "#df = pd.read_csv(\"HT_TI_2186C.PV.csv\")\n",
    "df = pd.read_csv(\"HT_TI_2186E.PV.csv\")\n",
    "\n",
    "Lambda =  math.log(2) / 10 \n",
    "Lambda"
   ]
  },
  {
   "cell_type": "code",
   "execution_count": 47,
   "id": "23e12452-b27d-4257-a119-4b50d3783294",
   "metadata": {
    "tags": []
   },
   "outputs": [
    {
     "data": {
      "text/html": [
       "<div>\n",
       "<style scoped>\n",
       "    .dataframe tbody tr th:only-of-type {\n",
       "        vertical-align: middle;\n",
       "    }\n",
       "\n",
       "    .dataframe tbody tr th {\n",
       "        vertical-align: top;\n",
       "    }\n",
       "\n",
       "    .dataframe thead th {\n",
       "        text-align: right;\n",
       "    }\n",
       "</style>\n",
       "<table border=\"1\" class=\"dataframe\">\n",
       "  <thead>\n",
       "    <tr style=\"text-align: right;\">\n",
       "      <th></th>\n",
       "      <th>year</th>\n",
       "      <th>temperature</th>\n",
       "      <th>tau</th>\n",
       "    </tr>\n",
       "  </thead>\n",
       "  <tbody>\n",
       "    <tr>\n",
       "      <th>0</th>\n",
       "      <td>2017</td>\n",
       "      <td>65.752249</td>\n",
       "      <td>0.010487</td>\n",
       "    </tr>\n",
       "    <tr>\n",
       "      <th>1</th>\n",
       "      <td>2018</td>\n",
       "      <td>63.487263</td>\n",
       "      <td>0.012270</td>\n",
       "    </tr>\n",
       "    <tr>\n",
       "      <th>2</th>\n",
       "      <td>2019</td>\n",
       "      <td>63.691045</td>\n",
       "      <td>0.012098</td>\n",
       "    </tr>\n",
       "    <tr>\n",
       "      <th>3</th>\n",
       "      <td>2020</td>\n",
       "      <td>65.315423</td>\n",
       "      <td>0.010810</td>\n",
       "    </tr>\n",
       "    <tr>\n",
       "      <th>4</th>\n",
       "      <td>2021</td>\n",
       "      <td>62.816761</td>\n",
       "      <td>0.012854</td>\n",
       "    </tr>\n",
       "    <tr>\n",
       "      <th>5</th>\n",
       "      <td>2022</td>\n",
       "      <td>63.422990</td>\n",
       "      <td>0.012325</td>\n",
       "    </tr>\n",
       "    <tr>\n",
       "      <th>6</th>\n",
       "      <td>2023</td>\n",
       "      <td>64.169928</td>\n",
       "      <td>0.011703</td>\n",
       "    </tr>\n",
       "  </tbody>\n",
       "</table>\n",
       "</div>"
      ],
      "text/plain": [
       "   year  temperature       tau\n",
       "0  2017    65.752249  0.010487\n",
       "1  2018    63.487263  0.012270\n",
       "2  2019    63.691045  0.012098\n",
       "3  2020    65.315423  0.010810\n",
       "4  2021    62.816761  0.012854\n",
       "5  2022    63.422990  0.012325\n",
       "6  2023    64.169928  0.011703"
      ]
     },
     "execution_count": 47,
     "metadata": {},
     "output_type": "execute_result"
    }
   ],
   "source": [
    "df['time'] = pd.to_datetime(df.time)\n",
    "df['year'] = df['time'].dt.year\n",
    "df['month'] = df['time'].dt.month\n",
    "df['day'] = df['time'].dt.day\n",
    "\n",
    "selected_cols = ['year']\n",
    "\n",
    "df1 = df[['temperature', *selected_cols]]\n",
    "df1 = df1[ (df1.temperature > 60) ]\n",
    "df1 = df1.groupby(selected_cols).mean()\n",
    "df1.reset_index(inplace=True)\n",
    "df1['tau'] = np.exp( -Lambda * (df1['temperature']) )\n",
    "df1"
   ]
  },
  {
   "cell_type": "code",
   "execution_count": 56,
   "id": "f63027db-1cf6-41e4-bfc4-641956a139a0",
   "metadata": {
    "tags": []
   },
   "outputs": [
    {
     "data": {
      "text/html": [
       "<div>\n",
       "<style scoped>\n",
       "    .dataframe tbody tr th:only-of-type {\n",
       "        vertical-align: middle;\n",
       "    }\n",
       "\n",
       "    .dataframe tbody tr th {\n",
       "        vertical-align: top;\n",
       "    }\n",
       "\n",
       "    .dataframe thead th {\n",
       "        text-align: right;\n",
       "    }\n",
       "</style>\n",
       "<table border=\"1\" class=\"dataframe\">\n",
       "  <thead>\n",
       "    <tr style=\"text-align: right;\">\n",
       "      <th></th>\n",
       "      <th>year</th>\n",
       "      <th>temperature</th>\n",
       "      <th>tau</th>\n",
       "      <th>d_tau</th>\n",
       "      <th>d_year</th>\n",
       "      <th>R0</th>\n",
       "    </tr>\n",
       "  </thead>\n",
       "  <tbody>\n",
       "    <tr>\n",
       "      <th>0</th>\n",
       "      <td>2017</td>\n",
       "      <td>65.752249</td>\n",
       "      <td>0.010487</td>\n",
       "      <td>NaN</td>\n",
       "      <td>-1</td>\n",
       "      <td>NaN</td>\n",
       "    </tr>\n",
       "    <tr>\n",
       "      <th>1</th>\n",
       "      <td>2018</td>\n",
       "      <td>63.487263</td>\n",
       "      <td>0.012270</td>\n",
       "      <td>0.001783</td>\n",
       "      <td>-1</td>\n",
       "      <td>-560.933876</td>\n",
       "    </tr>\n",
       "    <tr>\n",
       "      <th>2</th>\n",
       "      <td>2019</td>\n",
       "      <td>63.691045</td>\n",
       "      <td>0.012098</td>\n",
       "      <td>-0.000172</td>\n",
       "      <td>-1</td>\n",
       "      <td>5810.727861</td>\n",
       "    </tr>\n",
       "    <tr>\n",
       "      <th>3</th>\n",
       "      <td>2020</td>\n",
       "      <td>65.315423</td>\n",
       "      <td>0.010810</td>\n",
       "      <td>-0.001288</td>\n",
       "      <td>-1</td>\n",
       "      <td>776.244963</td>\n",
       "    </tr>\n",
       "    <tr>\n",
       "      <th>4</th>\n",
       "      <td>2021</td>\n",
       "      <td>62.816761</td>\n",
       "      <td>0.012854</td>\n",
       "      <td>0.002044</td>\n",
       "      <td>-1</td>\n",
       "      <td>-489.221995</td>\n",
       "    </tr>\n",
       "    <tr>\n",
       "      <th>5</th>\n",
       "      <td>2022</td>\n",
       "      <td>63.422990</td>\n",
       "      <td>0.012325</td>\n",
       "      <td>-0.000529</td>\n",
       "      <td>-1</td>\n",
       "      <td>1890.619529</td>\n",
       "    </tr>\n",
       "    <tr>\n",
       "      <th>6</th>\n",
       "      <td>2023</td>\n",
       "      <td>64.169928</td>\n",
       "      <td>0.011703</td>\n",
       "      <td>-0.000622</td>\n",
       "      <td>-1</td>\n",
       "      <td>1608.074679</td>\n",
       "    </tr>\n",
       "  </tbody>\n",
       "</table>\n",
       "</div>"
      ],
      "text/plain": [
       "   year  temperature       tau     d_tau  d_year           R0\n",
       "0  2017    65.752249  0.010487       NaN      -1          NaN\n",
       "1  2018    63.487263  0.012270  0.001783      -1  -560.933876\n",
       "2  2019    63.691045  0.012098 -0.000172      -1  5810.727861\n",
       "3  2020    65.315423  0.010810 -0.001288      -1   776.244963\n",
       "4  2021    62.816761  0.012854  0.002044      -1  -489.221995\n",
       "5  2022    63.422990  0.012325 -0.000529      -1  1890.619529\n",
       "6  2023    64.169928  0.011703 -0.000622      -1  1608.074679"
      ]
     },
     "execution_count": 56,
     "metadata": {},
     "output_type": "execute_result"
    }
   ],
   "source": [
    "#df1['tau_s1'] = df1.tau.shift(1)\n",
    "df1['d_tau'] = df1.tau - df1.tau.shift(1) \n",
    "df1['d_year'] = -1\n",
    "df1['R0'] = df1.d_year / df1.d_tau\n",
    "df1"
   ]
  },
  {
   "cell_type": "code",
   "execution_count": 62,
   "id": "227f54e9-b0ae-403a-a3e2-61516294fe54",
   "metadata": {
    "tags": []
   },
   "outputs": [
    {
     "data": {
      "text/plain": [
       "count       6.000000\n",
       "mean     1505.918527\n",
       "std      2344.128930\n",
       "min      -560.933876\n",
       "25%      -172.855256\n",
       "50%      1192.159821\n",
       "75%      1819.983316\n",
       "max      5810.727861\n",
       "Name: R0, dtype: float64"
      ]
     },
     "execution_count": 62,
     "metadata": {},
     "output_type": "execute_result"
    }
   ],
   "source": [
    "estR0 = df1.R0.median()\n",
    "variance = df1.R0.describe()\n",
    "variance"
   ]
  },
  {
   "cell_type": "code",
   "execution_count": 71,
   "id": "cc135ba7-af7b-47f0-9c20-f422d1749045",
   "metadata": {
    "tags": []
   },
   "outputs": [
    {
     "data": {
      "text/plain": [
       "849.8795600033529"
      ]
     },
     "execution_count": 71,
     "metadata": {},
     "output_type": "execute_result"
    }
   ],
   "source": [
    "Temp = 90\n",
    "R = estR0 * np.exp( -Lambda * Temp)\n",
    "R * 365"
   ]
  },
  {
   "cell_type": "code",
   "execution_count": null,
   "id": "cb44cad9-0e22-4593-b6b8-90daad45fff5",
   "metadata": {},
   "outputs": [],
   "source": []
  }
 ],
 "metadata": {
  "kernelspec": {
   "display_name": "Python 3 (ipykernel)",
   "language": "python",
   "name": "python3"
  },
  "language_info": {
   "codemirror_mode": {
    "name": "ipython",
    "version": 3
   },
   "file_extension": ".py",
   "mimetype": "text/x-python",
   "name": "python",
   "nbconvert_exporter": "python",
   "pygments_lexer": "ipython3",
   "version": "3.9.7"
  }
 },
 "nbformat": 4,
 "nbformat_minor": 5
}
